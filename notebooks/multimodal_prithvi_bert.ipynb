{
 "cells": [
  {
   "cell_type": "code",
   "execution_count": 1,
   "id": "6da2a41e-cace-4863-af04-088744811f1e",
   "metadata": {},
   "outputs": [],
   "source": [
    "from prithvi.prithvi_mae import PrithviMAE\n",
    "from prithvi.prithvi_mae import PrithviViT\n",
    "from transformers import BertModel, BertTokenizer\n",
    "import os\n",
    "import matplotlib.pyplot as plt\n",
    "import numpy as np\n",
    "import rasterio\n",
    "import yaml\n",
    "from rasterio.enums import Resampling\n",
    "import torch.nn as nn\n",
    "import torch\n",
    "from torch import optim\n",
    "import lightning as pl\n",
    "from rasterio.plot import reshape_as_image\n",
    "import pandas as pd\n",
    "import ast\n",
    "from datasets import Dataset\n",
    "from PIL import Image\n",
    "from torch.utils.data import DataLoader, IterableDataset"
   ]
  },
  {
   "cell_type": "markdown",
   "id": "9f7276a2-bdf4-4f91-895a-de1f18fd3c7b",
   "metadata": {},
   "source": [
    "## Settings"
   ]
  },
  {
   "cell_type": "code",
   "execution_count": 2,
   "id": "97108623-a110-46c0-b703-c43cc59321d9",
   "metadata": {},
   "outputs": [],
   "source": [
    "weights_path = \"prithvi/Prithvi_EO_V1_100M.pt\"\n",
    "model_cfg_path = \"./prithvi/config.yaml\"\n",
    "with open(model_cfg_path) as f:\n",
    "    model_config = yaml.safe_load(f)\n",
    "\n",
    "model_args, train_args = model_config[\"model_args\"], model_config[\"train_params\"]\n",
    "model_args[\"num_frames\"] = 1\n",
    "model_args[\"encoder_only\"] = True"
   ]
  },
  {
   "cell_type": "markdown",
   "id": "9f96e01a-4bfe-4c6c-b20e-19d708b119e3",
   "metadata": {},
   "source": [
    "## Data preprocessing and loading"
   ]
  },
  {
   "cell_type": "code",
   "execution_count": 3,
   "id": "d7a51f08-db1c-4561-b3eb-b8da2ed84d49",
   "metadata": {},
   "outputs": [],
   "source": [
    "means = np.array(train_args[\"data_mean\"]).reshape(-1, 1, 1)\n",
    "stds = np.array(train_args[\"data_std\"]).reshape(-1, 1, 1)\n",
    "\n",
    "NO_DATA = -9999\n",
    "NO_DATA_FLOAT = 0.0001\n",
    "PERCENTILES = (0.1, 99.9)"
   ]
  },
  {
   "cell_type": "code",
   "execution_count": 4,
   "id": "d10f8f55-6996-4b09-8c48-3dc12b8ecdb2",
   "metadata": {},
   "outputs": [],
   "source": [
    "def preprocess_image(image):\n",
    "    normalized = image.copy()\n",
    "    normalized = np.expand_dims(((image - means) / stds), axis=1)\n",
    "    normalized = torch.from_numpy(normalized).to(torch.float32)\n",
    "    return normalized"
   ]
  },
  {
   "cell_type": "code",
   "execution_count": 5,
   "id": "7a19e07f-aa58-4af7-b537-f2b012530959",
   "metadata": {},
   "outputs": [],
   "source": [
    "def load_raster(path, crop=(112, 112)):\n",
    "    with rasterio.open(path) as src:\n",
    "        img = src.read()\n",
    "        img = np.where(img == NO_DATA, NO_DATA_FLOAT, img)\n",
    "        if crop:\n",
    "            img = img[:, -crop[0]:, -crop[1]:]\n",
    "    return img\n",
    "\n",
    "def binary_data_gen_112(df, data_dir = '6d_data'):\n",
    "    for idx, row in df.iterrows():\n",
    "\n",
    "        file = os.path.join(data_dir, row.tile_name, row.patch_name)\n",
    "        img = load_raster(file)\n",
    "        normalized_img = preprocess_image(img)\n",
    "        \n",
    "        tokens = tokenizer(row.question, padding=\"max_length\", truncation=True, max_length=128, return_tensors=\"pt\")\n",
    "        input_ids = tokens['input_ids'].squeeze(0)\n",
    "        attention_mask = tokens['attention_mask'].squeeze(0)\n",
    "\n",
    "        label = torch.tensor(np.expand_dims(np.array(row.binary_answer), axis=0), dtype=torch.float32)\n",
    "    \n",
    "        yield normalized_img, input_ids, attention_mask, label"
   ]
  },
  {
   "cell_type": "code",
   "execution_count": 6,
   "id": "0a501b83-3926-4920-b1b4-213fb8d4a848",
   "metadata": {},
   "outputs": [],
   "source": [
    "def load_raster_224(path):\n",
    "    with rasterio.open(path) as src:\n",
    "        img = src.read(out_shape=(src.count, 224, 224), resampling=Resampling.bilinear)\n",
    "        img = np.where(img == NO_DATA, NO_DATA_FLOAT, img)\n",
    "    return img\n",
    "\n",
    "def binary_data_gen(df, data_dir = '6d_data'):\n",
    "    for idx, row in df.iterrows():\n",
    "\n",
    "        file = os.path.join(data_dir, row.tile_name, row.patch_name)\n",
    "        img = load_raster_224(file)\n",
    "        normalized_img = preprocess_image(img)\n",
    "        \n",
    "        tokens = tokenizer(row.question, padding=\"max_length\", truncation=True, max_length=128, return_tensors=\"pt\")\n",
    "        input_ids = tokens['input_ids'].squeeze(0)\n",
    "        attention_mask = tokens['attention_mask'].squeeze(0)\n",
    "\n",
    "        label = torch.tensor(np.expand_dims(np.array(row.binary_answer), axis=0), dtype=torch.float32)\n",
    "        \n",
    "        yield normalized_img, input_ids, attention_mask, label"
   ]
  },
  {
   "cell_type": "code",
   "execution_count": 7,
   "id": "37e5d267-7224-40aa-be66-7a9f62b8ecd1",
   "metadata": {},
   "outputs": [],
   "source": [
    "class IterDataset(IterableDataset):\n",
    "    def __init__(self, generator, df):\n",
    "        self.generator = generator\n",
    "        self.df = df\n",
    "\n",
    "    def __iter__(self):\n",
    "        return self.generator(self.df)"
   ]
  },
  {
   "cell_type": "code",
   "execution_count": 8,
   "id": "3b50e12c-12b6-4df3-9496-f5b5c5ffb50e",
   "metadata": {},
   "outputs": [],
   "source": [
    "df = pd.read_csv('binary_questions_and_answers.csv', index_col=0, converters={\"generic_question\": ast.literal_eval})\n",
    "df = df.replace({np.nan: 'None'}).sample(frac=1)"
   ]
  },
  {
   "cell_type": "code",
   "execution_count": 16,
   "id": "7e21b938-edf6-4932-89a0-b4f862d37dcf",
   "metadata": {},
   "outputs": [],
   "source": [
    "df_train = df.query(\"split == 'train'\")[:100]\n",
    "df_val = df.query(\"split == 'validation'\")[:100]\n",
    "df_test = df.query(\"split == 'test'\")[:100]"
   ]
  },
  {
   "cell_type": "code",
   "execution_count": 17,
   "id": "1655eb3b-261c-46f9-a17d-4149ce94b53b",
   "metadata": {},
   "outputs": [],
   "source": [
    "train_ds = IterDataset(binary_data_gen, df_train)\n",
    "val_ds = IterDataset(binary_data_gen, df_val)\n",
    "test_ds = IterDataset(binary_data_gen, df_test)"
   ]
  },
  {
   "cell_type": "code",
   "execution_count": 25,
   "id": "7df5a989-89c7-4e6c-8feb-5ef2bc854f09",
   "metadata": {},
   "outputs": [],
   "source": [
    "train_dataloader = DataLoader(train_ds, batch_size=4)\n",
    "val_dataloader = DataLoader(val_ds, batch_size=4)\n",
    "test_dataloader = DataLoader(test_ds, batch_size=4)"
   ]
  },
  {
   "cell_type": "markdown",
   "id": "6301646f-7b4a-4a85-977e-03a35ede7882",
   "metadata": {},
   "source": [
    "## Model definition"
   ]
  },
  {
   "cell_type": "markdown",
   "id": "4c560a55-2c3d-4d98-9a88-9627161bc7e5",
   "metadata": {},
   "source": [
    "#### Vision encoder"
   ]
  },
  {
   "cell_type": "code",
   "execution_count": 26,
   "id": "37ed6e36-e614-4abc-a580-cc1ad9fec051",
   "metadata": {
    "scrolled": true
   },
   "outputs": [],
   "source": [
    "checkpoint = torch.load(weights_path, map_location=\"cpu\")\n",
    "vision_encoder = PrithviViT(**model_args)\n",
    "#del checkpoint['encoder.pos_embed']\n",
    "#del checkpoint['decoder.decoder_pos_embed']\n",
    "_ = vision_encoder.load_state_dict(checkpoint, strict=False)"
   ]
  },
  {
   "cell_type": "markdown",
   "id": "20eb9f91-bef8-4d10-99fc-7ef653a08349",
   "metadata": {},
   "source": [
    "#### Text encoder"
   ]
  },
  {
   "cell_type": "code",
   "execution_count": 27,
   "id": "6b988273-f075-4058-ac74-d40eccaba520",
   "metadata": {},
   "outputs": [],
   "source": [
    "text_encoder = BertModel.from_pretrained('bert-base-uncased')\n",
    "tokenizer = BertTokenizer.from_pretrained('bert-base-uncased')"
   ]
  },
  {
   "cell_type": "markdown",
   "id": "caa2a1d8-5b8f-4835-804e-8266b8a5c1c5",
   "metadata": {},
   "source": [
    "#### Multimodal model"
   ]
  },
  {
   "cell_type": "code",
   "execution_count": 34,
   "id": "b4556941-1915-4c80-aad7-c409a323a0f9",
   "metadata": {},
   "outputs": [],
   "source": [
    "class rsvqa_pl(pl.LightningModule):\n",
    "    def __init__(self, vision_encoder, text_encoder):\n",
    "        super().__init__()\n",
    "\n",
    "        self.vision_encoder = vision_encoder\n",
    "        self.text_encoder = text_encoder\n",
    "        for param in self.vision_encoder.parameters():\n",
    "            param.requires_grad = False\n",
    "        for param in self.text_encoder.parameters():\n",
    "            param.requires_grad = False\n",
    "\n",
    "        self.fusion_layer = nn.Sequential(nn.Linear(768+768, 128), nn.ReLU())\n",
    "        self.classification_layer = nn.Sequential(nn.Linear(128, 1), nn.Sigmoid())\n",
    "\n",
    "    def forward(self, normalised_image, text_tokens, attention_mask):\n",
    "        img_embedding, _, _ = vision_encoder(normalised_image)\n",
    "        img_cls = img_embedding[:,0,:]\n",
    "        txt_embedding = text_encoder(input_ids=text_tokens, attention_mask=attention_mask)\n",
    "        txt_cls = txt_embedding.last_hidden_state[:,0,:]\n",
    "        fused_embedding = torch.cat([img_cls, txt_cls], dim=1)\n",
    "        fused_projection = self.fusion_layer(fused_embedding)\n",
    "        prediction = self.classification_layer(fused_projection)\n",
    "        return prediction\n",
    "\n",
    "    def training_step(self, batch, batch_idx):\n",
    "        images, input_ids, attention_mask, labels = batch\n",
    "        prediction = self.forward(images, input_ids, attention_mask)\n",
    "        loss = nn.functional.binary_cross_entropy(prediction, labels)\n",
    "        self.log('train_loss', loss, prog_bar=True)\n",
    "        return loss\n",
    "\n",
    "    def validation_step(self, batch, batch_idx):\n",
    "        images, input_ids, attention_mask, labels = batch\n",
    "        prediction = self.forward(images, input_ids, attention_mask)\n",
    "        loss = nn.functional.binary_cross_entropy(prediction, labels)\n",
    "        preds = prediction > 0.5\n",
    "        acc = (preds == labels).float().mean()\n",
    "        self.log('val_loss', loss, prog_bar=True)\n",
    "        self.log('acc', acc, prog_bar=True)\n",
    "    \n",
    "    def configure_optimizers(self):\n",
    "        optimizer = optim.Adam(self.parameters(), lr=1e-3)\n",
    "        return optimizer"
   ]
  },
  {
   "cell_type": "markdown",
   "id": "fe4ad81d-cf48-4e32-9a3a-3ef2fc7ef4a9",
   "metadata": {},
   "source": [
    "## Training"
   ]
  },
  {
   "cell_type": "code",
   "execution_count": 35,
   "id": "5077262c-884a-4a16-8748-425839907b5e",
   "metadata": {},
   "outputs": [
    {
     "name": "stderr",
     "output_type": "stream",
     "text": [
      "GPU available: False, used: False\n",
      "TPU available: False, using: 0 TPU cores\n",
      "HPU available: False, using: 0 HPUs\n",
      "\n",
      "  | Name                 | Type       | Params | Mode \n",
      "------------------------------------------------------------\n",
      "0 | vision_encoder       | PrithviViT | 86.2 M | eval \n",
      "1 | text_encoder         | BertModel  | 109 M  | eval \n",
      "2 | fusion_layer         | Sequential | 196 K  | train\n",
      "3 | classification_layer | Sequential | 129    | train\n",
      "------------------------------------------------------------\n",
      "196 K     Trainable params\n",
      "195 M     Non-trainable params\n",
      "195 M     Total params\n",
      "783.665   Total estimated model params size (MB)\n",
      "6         Modules in train mode\n",
      "486       Modules in eval mode\n"
     ]
    },
    {
     "data": {
      "application/vnd.jupyter.widget-view+json": {
       "model_id": "",
       "version_major": 2,
       "version_minor": 0
      },
      "text/plain": [
       "Sanity Checking: |                                                                                        | 0/…"
      ]
     },
     "metadata": {},
     "output_type": "display_data"
    },
    {
     "name": "stderr",
     "output_type": "stream",
     "text": [
      "/Users/wouter/miniconda3/envs/genai/lib/python3.12/site-packages/lightning/pytorch/trainer/connectors/data_connector.py:425: The 'train_dataloader' does not have many workers which may be a bottleneck. Consider increasing the value of the `num_workers` argument` to `num_workers=7` in the `DataLoader` to improve performance.\n"
     ]
    },
    {
     "data": {
      "application/vnd.jupyter.widget-view+json": {
       "model_id": "479b84156da947029fdc44e1249257a4",
       "version_major": 2,
       "version_minor": 0
      },
      "text/plain": [
       "Training: |                                                                                               | 0/…"
      ]
     },
     "metadata": {},
     "output_type": "display_data"
    },
    {
     "data": {
      "application/vnd.jupyter.widget-view+json": {
       "model_id": "",
       "version_major": 2,
       "version_minor": 0
      },
      "text/plain": [
       "Validation: |                                                                                             | 0/…"
      ]
     },
     "metadata": {},
     "output_type": "display_data"
    },
    {
     "data": {
      "application/vnd.jupyter.widget-view+json": {
       "model_id": "",
       "version_major": 2,
       "version_minor": 0
      },
      "text/plain": [
       "Validation: |                                                                                             | 0/…"
      ]
     },
     "metadata": {},
     "output_type": "display_data"
    },
    {
     "data": {
      "application/vnd.jupyter.widget-view+json": {
       "model_id": "",
       "version_major": 2,
       "version_minor": 0
      },
      "text/plain": [
       "Validation: |                                                                                             | 0/…"
      ]
     },
     "metadata": {},
     "output_type": "display_data"
    },
    {
     "data": {
      "application/vnd.jupyter.widget-view+json": {
       "model_id": "",
       "version_major": 2,
       "version_minor": 0
      },
      "text/plain": [
       "Validation: |                                                                                             | 0/…"
      ]
     },
     "metadata": {},
     "output_type": "display_data"
    },
    {
     "data": {
      "application/vnd.jupyter.widget-view+json": {
       "model_id": "",
       "version_major": 2,
       "version_minor": 0
      },
      "text/plain": [
       "Validation: |                                                                                             | 0/…"
      ]
     },
     "metadata": {},
     "output_type": "display_data"
    },
    {
     "data": {
      "application/vnd.jupyter.widget-view+json": {
       "model_id": "",
       "version_major": 2,
       "version_minor": 0
      },
      "text/plain": [
       "Validation: |                                                                                             | 0/…"
      ]
     },
     "metadata": {},
     "output_type": "display_data"
    },
    {
     "data": {
      "application/vnd.jupyter.widget-view+json": {
       "model_id": "",
       "version_major": 2,
       "version_minor": 0
      },
      "text/plain": [
       "Validation: |                                                                                             | 0/…"
      ]
     },
     "metadata": {},
     "output_type": "display_data"
    },
    {
     "data": {
      "application/vnd.jupyter.widget-view+json": {
       "model_id": "",
       "version_major": 2,
       "version_minor": 0
      },
      "text/plain": [
       "Validation: |                                                                                             | 0/…"
      ]
     },
     "metadata": {},
     "output_type": "display_data"
    },
    {
     "data": {
      "application/vnd.jupyter.widget-view+json": {
       "model_id": "",
       "version_major": 2,
       "version_minor": 0
      },
      "text/plain": [
       "Validation: |                                                                                             | 0/…"
      ]
     },
     "metadata": {},
     "output_type": "display_data"
    },
    {
     "data": {
      "application/vnd.jupyter.widget-view+json": {
       "model_id": "",
       "version_major": 2,
       "version_minor": 0
      },
      "text/plain": [
       "Validation: |                                                                                             | 0/…"
      ]
     },
     "metadata": {},
     "output_type": "display_data"
    },
    {
     "name": "stderr",
     "output_type": "stream",
     "text": [
      "`Trainer.fit` stopped: `max_epochs=10` reached.\n"
     ]
    }
   ],
   "source": [
    "rsvqa_model = rsvqa_pl(vision_encoder, text_encoder)\n",
    "trainer = pl.Trainer(max_epochs=10)\n",
    "trainer.fit(model=rsvqa_model, train_dataloaders=train_dataloader, val_dataloaders=val_dataloader)"
   ]
  },
  {
   "cell_type": "code",
   "execution_count": 36,
   "id": "5b448868-78f3-4195-a13e-4350cefff543",
   "metadata": {},
   "outputs": [
    {
     "ename": "SyntaxError",
     "evalue": "invalid syntax (1888371297.py, line 1)",
     "output_type": "error",
     "traceback": [
      "\u001b[0;36m  Cell \u001b[0;32mIn[36], line 1\u001b[0;36m\u001b[0m\n\u001b[0;31m    tensorboard --logdir .\u001b[0m\n\u001b[0m                          ^\u001b[0m\n\u001b[0;31mSyntaxError\u001b[0m\u001b[0;31m:\u001b[0m invalid syntax\n"
     ]
    }
   ],
   "source": [
    "tensorboard --logdir ."
   ]
  },
  {
   "cell_type": "code",
   "execution_count": null,
   "id": "275fe04b-418a-4c37-a397-5ecc249ccfe6",
   "metadata": {},
   "outputs": [],
   "source": []
  }
 ],
 "metadata": {
  "kernelspec": {
   "display_name": "Python 3 (ipykernel)",
   "language": "python",
   "name": "python3"
  },
  "language_info": {
   "codemirror_mode": {
    "name": "ipython",
    "version": 3
   },
   "file_extension": ".py",
   "mimetype": "text/x-python",
   "name": "python",
   "nbconvert_exporter": "python",
   "pygments_lexer": "ipython3",
   "version": "3.12.7"
  }
 },
 "nbformat": 4,
 "nbformat_minor": 5
}
